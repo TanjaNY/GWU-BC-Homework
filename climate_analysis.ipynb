{
 "cells": [
  {
   "cell_type": "code",
   "execution_count": 92,
   "metadata": {},
   "outputs": [],
   "source": [
    "import sqlalchemy\n",
    "from sqlalchemy.ext.automap import automap_base\n",
    "from sqlalchemy.orm import Session\n",
    "from sqlalchemy import create_engine\n",
    "from sqlalchemy import create_engine, inspect, func"
   ]
  },
  {
   "cell_type": "code",
   "execution_count": 93,
   "metadata": {},
   "outputs": [],
   "source": [
    "import matplotlib\n",
    "from matplotlib import style\n",
    "style.use('seaborn')\n",
    "import matplotlib.pyplot as plt\n"
   ]
  },
  {
   "cell_type": "code",
   "execution_count": 94,
   "metadata": {},
   "outputs": [],
   "source": [
    "import pandas as pd\n",
    "from pandas import DataFrame\n",
    "import sqlite3\n",
    "import numpy as np\n",
    "from sqlalchemy import distinct\n",
    "from sqlalchemy import func\n",
    "\n"
   ]
  },
  {
   "cell_type": "markdown",
   "metadata": {},
   "source": [
    "**Step 3 - Climate Analysis and Exploration**"
   ]
  },
  {
   "cell_type": "code",
   "execution_count": 95,
   "metadata": {},
   "outputs": [],
   "source": [
    "# Create engine \n",
    "from sqlalchemy import event\n",
    "from sqlalchemy import exc\n",
    "import os\n",
    "\n",
    "engine = create_engine(\"sqlite:///hawaii.sqlite\",echo=False )\n",
    "\n",
    "@event.listens_for(engine, \"connect\")\n",
    "def connect(dbapi_connection, connection_record):\n",
    "    connection_record.info['pid'] = os.getpid()\n",
    "\n",
    "@event.listens_for(engine, \"checkout\")\n",
    "def checkout(dbapi_connection, connection_record, connection_proxy):\n",
    "    pid = os.getpid()\n",
    "    if connection_record.info['pid'] != pid:\n",
    "        connection_record.connection = connection_proxy.connection = None\n",
    "        raise exc.DisconnectionError(\n",
    "                \"Connection record belongs to pid %s, \"\n",
    "                \"attempting to check out in pid %s\" %\n",
    "                (connection_record.info['pid'], pid)\n",
    "        )\n"
   ]
  },
  {
   "cell_type": "code",
   "execution_count": 96,
   "metadata": {},
   "outputs": [],
   "source": [
    "# Declare a Base using `automap_base()`\n",
    "Base = automap_base()"
   ]
  },
  {
   "cell_type": "code",
   "execution_count": 97,
   "metadata": {},
   "outputs": [],
   "source": [
    "# Use the Base class to reflect the database tables\n",
    "Base.prepare(engine, reflect=True)"
   ]
  },
  {
   "cell_type": "code",
   "execution_count": 98,
   "metadata": {},
   "outputs": [
    {
     "data": {
      "text/plain": [
       "['measurement', 'station']"
      ]
     },
     "execution_count": 98,
     "metadata": {},
     "output_type": "execute_result"
    }
   ],
   "source": [
    "# Print all of the classes mapped to the Base\n",
    "Base.classes.keys()\n"
   ]
  },
  {
   "cell_type": "code",
   "execution_count": 99,
   "metadata": {},
   "outputs": [],
   "source": [
    "Measurement = Base.classes.measurement\n",
    "Station = Base.classes.station\n",
    "conn = engine.connect()\n"
   ]
  },
  {
   "cell_type": "code",
   "execution_count": 100,
   "metadata": {},
   "outputs": [
    {
     "name": "stdout",
     "output_type": "stream",
     "text": [
      "id INTEGER\n",
      "station VARCHAR(255)\n",
      "date VARCHAR(255)\n",
      "prcp INTEGER\n",
      "tobs INTEGER\n"
     ]
    }
   ],
   "source": [
    "inspector = inspect(engine)\n",
    "columns = inspector.get_columns('measurement')\n",
    "for c in columns:\n",
    "    print(c['name'], c[\"type\"])"
   ]
  },
  {
   "cell_type": "code",
   "execution_count": 101,
   "metadata": {},
   "outputs": [],
   "source": [
    "# Create a session\n",
    "session = Session(engine)"
   ]
  },
  {
   "cell_type": "code",
   "execution_count": 102,
   "metadata": {},
   "outputs": [
    {
     "data": {
      "text/plain": [
       "['measurement', 'station']"
      ]
     },
     "execution_count": 102,
     "metadata": {},
     "output_type": "execute_result"
    }
   ],
   "source": [
    "inspector.get_table_names()"
   ]
  },
  {
   "cell_type": "code",
   "execution_count": 103,
   "metadata": {},
   "outputs": [
    {
     "name": "stdout",
     "output_type": "stream",
     "text": [
      "('2017-08-23',)\n"
     ]
    }
   ],
   "source": [
    "some_list=conn.execute(\"select date from measurement\").fetchall()\n",
    "last_date=some_list[-1]\n",
    "print(last_date)"
   ]
  },
  {
   "cell_type": "code",
   "execution_count": 104,
   "metadata": {},
   "outputs": [
    {
     "name": "stdout",
     "output_type": "stream",
     "text": [
      "Start date:  2011-04-08    Finish Date:  2011-03-24\n"
     ]
    }
   ],
   "source": [
    "import datetime as dt\n",
    "query_date = dt.date(2011, 4, 8) - dt.timedelta(days=15)\n",
    "\n",
    "print(\"Start date: \", dt.date(2011, 4, 8) ,\" \",\" Finish Date: \" , query_date )\n"
   ]
  },
  {
   "cell_type": "markdown",
   "metadata": {},
   "source": [
    "**Precipitation Analysis**\n"
   ]
  },
  {
   "cell_type": "code",
   "execution_count": 105,
   "metadata": {},
   "outputs": [
    {
     "data": {
      "text/html": [
       "<div>\n",
       "<style scoped>\n",
       "    .dataframe tbody tr th:only-of-type {\n",
       "        vertical-align: middle;\n",
       "    }\n",
       "\n",
       "    .dataframe tbody tr th {\n",
       "        vertical-align: top;\n",
       "    }\n",
       "\n",
       "    .dataframe thead th {\n",
       "        text-align: right;\n",
       "    }\n",
       "</style>\n",
       "<table border=\"1\" class=\"dataframe\">\n",
       "  <thead>\n",
       "    <tr style=\"text-align: right;\">\n",
       "      <th></th>\n",
       "      <th>date</th>\n",
       "      <th>Precipitation</th>\n",
       "    </tr>\n",
       "  </thead>\n",
       "  <tbody>\n",
       "    <tr>\n",
       "      <th>2427</th>\n",
       "      <td>2016-08-24</td>\n",
       "      <td>1.332857</td>\n",
       "    </tr>\n",
       "    <tr>\n",
       "      <th>2428</th>\n",
       "      <td>2016-08-25</td>\n",
       "      <td>0.077143</td>\n",
       "    </tr>\n",
       "    <tr>\n",
       "      <th>2429</th>\n",
       "      <td>2016-08-26</td>\n",
       "      <td>0.016667</td>\n",
       "    </tr>\n",
       "    <tr>\n",
       "      <th>2430</th>\n",
       "      <td>2016-08-27</td>\n",
       "      <td>0.053333</td>\n",
       "    </tr>\n",
       "    <tr>\n",
       "      <th>2431</th>\n",
       "      <td>2016-08-28</td>\n",
       "      <td>0.516667</td>\n",
       "    </tr>\n",
       "  </tbody>\n",
       "</table>\n",
       "</div>"
      ],
      "text/plain": [
       "            date  Precipitation\n",
       "2427  2016-08-24       1.332857\n",
       "2428  2016-08-25       0.077143\n",
       "2429  2016-08-26       0.016667\n",
       "2430  2016-08-27       0.053333\n",
       "2431  2016-08-28       0.516667"
      ]
     },
     "execution_count": 105,
     "metadata": {},
     "output_type": "execute_result"
    }
   ],
   "source": [
    "results = session.query( Measurement.date, Measurement.prcp).\\\n",
    "     order_by(Measurement.date.desc()).all()\n",
    "plot_data_df=pd.DataFrame(results)\n",
    "#prcp_list=plot_df['prcp']\n",
    "#plot_data_df.pop('date')\n",
    "plot_df=plot_data_df.groupby(['date'])['prcp'].mean().reset_index().tail(365)\n",
    "#graph_df_01=graph_df.reset_index()\n",
    "#plot_org_df=plot_df.rename(columns={'prcpt':'Precipitation'}).tail(365)\n",
    "plot=plot_df.rename(columns={\"prcp\":\"Precipitation\"})\n",
    "\n",
    "#random_list=np.random.choice(date_list)\n",
    "#graph_df_01=graph_df.reset_index()\n",
    "date_list=plot['date']\n",
    "prcp_list=plot['Precipitation']\n",
    "random_list=np.random.choice(date_list,8)\n",
    "random_list_sort=np.sort(random_list)[::-1]\n",
    "plot.head()\n"
   ]
  },
  {
   "cell_type": "code",
   "execution_count": 106,
   "metadata": {},
   "outputs": [
    {
     "data": {
      "image/png": "[encoded data removed]",
      "text/plain": [
       "<matplotlib.figure.Figure at 0x200b5595320>"
      ]
     },
     "metadata": {},
     "output_type": "display_data"
    }
   ],
   "source": [
    "new_df=plot_df.plot(x=date_list,subplots=True)\n",
    "#ax = fig.add_subplot(111)\n",
    "#fig, ax = plt.subplots(111)\n",
    "#ax.set_xticks(date)\n",
    "xlabels=random_list_sort\n",
    "plt.xticks(np.arange(0,365,50),xlabels, rotation = 'vertical')\n",
    "plt.xlabel(\"date\")\n",
    "plt.legend(labels=['Precipitation'],loc='upper left',frameon=True)\n",
    "plt.show()"
   ]
  },
  {
   "cell_type": "markdown",
   "metadata": {},
   "source": [
    "**Station Analysis**\n"
   ]
  },
  {
   "cell_type": "code",
   "execution_count": 107,
   "metadata": {},
   "outputs": [
    {
     "name": "stdout",
     "output_type": "stream",
     "text": [
      "(9,)\n"
     ]
    }
   ],
   "source": [
    "stations=session.query(func.count(distinct(Measurement.station))).one()\n",
    "print(stations)\n"
   ]
  },
  {
   "cell_type": "code",
   "execution_count": 108,
   "metadata": {},
   "outputs": [
    {
     "name": "stdout",
     "output_type": "stream",
     "text": [
      "('USC00519281', 2772)\n"
     ]
    }
   ],
   "source": [
    "observations=session.query(Measurement.station,func.count(Measurement.tobs)).\\\n",
    "             group_by(Measurement.station).order_by(func.count(Measurement.tobs).desc()).first()\n",
    "\n",
    "print(observations)\n",
    "\n"
   ]
  },
  {
   "cell_type": "code",
   "execution_count": 109,
   "metadata": {},
   "outputs": [
    {
     "name": "stdout",
     "output_type": "stream",
     "text": [
      "[('USC00519281', 54, 1), ('USC00519281', 56, 4), ('USC00519281', 57, 6), ('USC00519281', 58, 6), ('USC00519281', 59, 5), ('USC00519281', 60, 15), ('USC00519281', 61, 19), ('USC00519281', 62, 37), ('USC00519281', 63, 33), ('USC00519281', 64, 41), ('USC00519281', 65, 71), ('USC00519281', 66, 80), ('USC00519281', 67, 111), ('USC00519281', 68, 143), ('USC00519281', 69, 193), ('USC00519281', 70, 227), ('USC00519281', 71, 265), ('USC00519281', 72, 290), ('USC00519281', 73, 278), ('USC00519281', 74, 261), ('USC00519281', 75, 204), ('USC00519281', 76, 148), ('USC00519281', 77, 111), ('USC00519281', 78, 88), ('USC00519281', 79, 54), ('USC00519281', 80, 43), ('USC00519281', 81, 22), ('USC00519281', 82, 11), ('USC00519281', 83, 3), ('USC00519281', 84, 1), ('USC00519281', 85, 1)]\n"
     ]
    }
   ],
   "source": [
    "temps=session.query(Measurement.station,Measurement.tobs,func.count(Measurement.tobs)).group_by(Measurement.tobs).\\\n",
    "      filter(Measurement.station == 'USC00519281').all()\n",
    "print(temps)"
   ]
  },
  {
   "cell_type": "code",
   "execution_count": 132,
   "metadata": {},
   "outputs": [
    {
     "data": {
      "text/html": [
       "<div>\n",
       "<style scoped>\n",
       "    .dataframe tbody tr th:only-of-type {\n",
       "        vertical-align: middle;\n",
       "    }\n",
       "\n",
       "    .dataframe tbody tr th {\n",
       "        vertical-align: top;\n",
       "    }\n",
       "\n",
       "    .dataframe thead th {\n",
       "        text-align: right;\n",
       "    }\n",
       "</style>\n",
       "<table border=\"1\" class=\"dataframe\">\n",
       "  <thead>\n",
       "    <tr style=\"text-align: right;\">\n",
       "      <th></th>\n",
       "      <th>Temperature</th>\n",
       "    </tr>\n",
       "    <tr>\n",
       "      <th>Frequence</th>\n",
       "      <th></th>\n",
       "    </tr>\n",
       "  </thead>\n",
       "  <tbody>\n",
       "    <tr>\n",
       "      <th>1</th>\n",
       "      <td>54</td>\n",
       "    </tr>\n",
       "    <tr>\n",
       "      <th>4</th>\n",
       "      <td>56</td>\n",
       "    </tr>\n",
       "    <tr>\n",
       "      <th>6</th>\n",
       "      <td>57</td>\n",
       "    </tr>\n",
       "    <tr>\n",
       "      <th>6</th>\n",
       "      <td>58</td>\n",
       "    </tr>\n",
       "    <tr>\n",
       "      <th>5</th>\n",
       "      <td>59</td>\n",
       "    </tr>\n",
       "  </tbody>\n",
       "</table>\n",
       "</div>"
      ],
      "text/plain": [
       "           Temperature\n",
       "Frequence             \n",
       "1                   54\n",
       "4                   56\n",
       "6                   57\n",
       "6                   58\n",
       "5                   59"
      ]
     },
     "execution_count": 132,
     "metadata": {},
     "output_type": "execute_result"
    }
   ],
   "source": [
    "plt_data=pd.DataFrame(temps, columns=['Station','Temperature','Frequence'])\n",
    "plt_data_01=plt_data[['Temperature','Frequence','Station']]\n",
    "plt_data_02=plt_data_01.drop(columns=['Station'])\n",
    "plt_data_04=plt_data_02.set_index('Frequence')\n",
    "#plt_data_04=plt_data_02.reset_index()\n",
    "x=plt_data_04\n",
    "#y=plt_data_04['Frequence']\n",
    "plt_data_04.head()\n"
   ]
  },
  {
   "cell_type": "code",
   "execution_count": 111,
   "metadata": {},
   "outputs": [
    {
     "data": {
      "text/plain": [
       "<matplotlib.axes._subplots.AxesSubplot at 0x200b57559e8>"
      ]
     },
     "execution_count": 111,
     "metadata": {},
     "output_type": "execute_result"
    },
    {
     "data": {
      "text/plain": [
       "<matplotlib.figure.Figure at 0x200b709b400>"
      ]
     },
     "metadata": {},
     "output_type": "display_data"
    },
    {
     "data": {
      "image/png": "[encoded data removed]",
      "text/plain": [
       "<matplotlib.figure.Figure at 0x200b73200b8>"
      ]
     },
     "metadata": {},
     "output_type": "display_data"
    }
   ],
   "source": [
    "plt.figure()\n",
    "plt_data_04.plot.hist(x,bins=12)\n"
   ]
  },
  {
   "cell_type": "markdown",
   "metadata": {},
   "source": [
    "**Temperature Analysis**"
   ]
  },
  {
   "cell_type": "code",
   "execution_count": 147,
   "metadata": {},
   "outputs": [
    {
     "data": {
      "text/plain": [
       "datetime.date(2017, 5, 11)"
      ]
     },
     "execution_count": 147,
     "metadata": {},
     "output_type": "execute_result"
    }
   ],
   "source": [
    "\n",
    "from datetime import date\n",
    "from datetime import time\n",
    "import datetime\n",
    "\n",
    "b=dt.date.today()-dt.timedelta(365)\n",
    "b"
   ]
  },
  {
   "cell_type": "code",
   "execution_count": 148,
   "metadata": {},
   "outputs": [],
   "source": [
    "import datetime as dt\n",
    "import numpy as np\n",
    "from datetime import date\n",
    "from typing import Tuple\n",
    "\n",
    "def calc_temps (start_date:str,\n",
    "                end_date:str):\n",
    "    s_date=datetime.datetime.strptime(start_date,\"%Y-%m-%d\")\n",
    "    e_date=datetime.datetime.strptime(end_date,\"%Y-%m-%d\")\n",
    "    qu=[Measurement.tobs,\n",
    "                    func.avg(Measurement.tobs),\n",
    "                    func.max(Measurement.tobs),\n",
    "                    func.min(Measurement.tobs)\n",
    "                     ]\n",
    "    result=session.query(*qu).\\\n",
    "                filter(Measurement.date > s_date).\\\n",
    "                filter(Measurement.date < e_date).all()\n",
    "    res_list = list(np.ravel(result))\n",
    "    return res_list"
   ]
  },
  {
   "cell_type": "code",
   "execution_count": 149,
   "metadata": {},
   "outputs": [
    {
     "data": {
      "text/plain": [
       "[71.0, 77.77215189873418, 84.0, 71.0]"
      ]
     },
     "execution_count": 149,
     "metadata": {},
     "output_type": "execute_result"
    }
   ],
   "source": [
    "\n",
    "start_date=('2016-8-30')\n",
    "end_date=('2016-9-12')\n",
    "calc_temps(start_date,end_date)"
   ]
  },
  {
   "cell_type": "code",
   "execution_count": 151,
   "metadata": {},
   "outputs": [
    {
     "ename": "NameError",
     "evalue": "name 'res_list' is not defined",
     "output_type": "error",
     "traceback": [
      "\u001b[1;31m---------------------------------------------------------------------------\u001b[0m",
      "\u001b[1;31mNameError\u001b[0m                                 Traceback (most recent call last)",
      "\u001b[1;32m<ipython-input-151-aac84ecb6c51>\u001b[0m in \u001b[0;36m<module>\u001b[1;34m()\u001b[0m\n\u001b[0;32m      1\u001b[0m \u001b[0mfig\u001b[0m\u001b[1;33m,\u001b[0m \u001b[0max\u001b[0m \u001b[1;33m=\u001b[0m \u001b[0mplt\u001b[0m\u001b[1;33m.\u001b[0m\u001b[0msubplots\u001b[0m\u001b[1;33m(\u001b[0m\u001b[1;33m)\u001b[0m\u001b[1;33m\u001b[0m\u001b[0m\n\u001b[0;32m      2\u001b[0m \u001b[1;33m\u001b[0m\u001b[0m\n\u001b[1;32m----> 3\u001b[1;33m \u001b[0mx\u001b[0m \u001b[1;33m=\u001b[0m \u001b[0mrange\u001b[0m\u001b[1;33m(\u001b[0m\u001b[0mlen\u001b[0m\u001b[1;33m(\u001b[0m\u001b[0mres_list\u001b[0m\u001b[1;33m)\u001b[0m\u001b[1;33m)\u001b[0m\u001b[1;33m\u001b[0m\u001b[0m\n\u001b[0m\u001b[0;32m      4\u001b[0m \u001b[0max\u001b[0m\u001b[1;33m.\u001b[0m\u001b[0mboxplot\u001b[0m\u001b[1;33m(\u001b[0m\u001b[0mptps\u001b[0m\u001b[1;33m,\u001b[0m \u001b[0mpatch_artist\u001b[0m\u001b[1;33m=\u001b[0m\u001b[1;32mTrue\u001b[0m\u001b[1;33m)\u001b[0m\u001b[1;33m\u001b[0m\u001b[0m\n\u001b[0;32m      5\u001b[0m \u001b[0max\u001b[0m\u001b[1;33m.\u001b[0m\u001b[0mset_title\u001b[0m\u001b[1;33m(\u001b[0m\u001b[1;34m'IBM PTPs'\u001b[0m\u001b[1;33m)\u001b[0m\u001b[1;33m\u001b[0m\u001b[0m\n",
      "\u001b[1;31mNameError\u001b[0m: name 'res_list' is not defined"
     ]
    },
    {
     "data": {
      "image/png": "[encoded data removed]",
      "text/plain": [
       "<matplotlib.figure.Figure at 0x200b73d84a8>"
      ]
     },
     "metadata": {},
     "output_type": "display_data"
    }
   ],
   "source": [
    "fig, ax = plt.subplots()\n",
    "\n",
    "x = range(len(res_list))\n",
    "ax.boxplot(ptps, patch_artist=True)\n",
    "ax.set_title('IBM PTPs')\n",
    "fig.tight_layout()\n",
    "fig.show()\n",
    "res_list"
   ]
  },
  {
   "cell_type": "markdown",
   "metadata": {},
   "source": [
    "# **Step 4 - Climate App**"
   ]
  },
  {
   "cell_type": "code",
   "execution_count": null,
   "metadata": {},
   "outputs": [],
   "source": [
    "# 1. Import Flask\n",
    "from flask import Flask"
   ]
  },
  {
   "cell_type": "code",
   "execution_count": null,
   "metadata": {},
   "outputs": [],
   "source": [
    "app = Flask(__name__)\n"
   ]
  },
  {
   "cell_type": "code",
   "execution_count": null,
   "metadata": {},
   "outputs": [],
   "source": [
    "@app.route(\"/api/v1.0/precipitation\")\n",
    "def precipitation():\n",
    "    year_ago=dt.date.today()-dt.timedelta(365)\n",
    "    presults = session.query(Measurement.date,Measurement.tobs).\\\n",
    "    filter(Measurement.date > year_ago)all()\n",
    "    prec_all=[]\n",
    "    for measurement in presults\n",
    "    prec_dict={}\n",
    "    prec_dict['date'].key()=Measurement.date\n",
    "    prec_dict['tobs'].value()=Measurement.tobs\n",
    "    prec_all.append(prec_dict)\n",
    "    \n",
    "return jsonsfy(prec_all=[]) \n",
    "\n",
    "@app.route(\"/api/v1.0/stations\")\n",
    "def stations():\n",
    "    sresult=session.query(distinct(Measurement.station).all()\n",
    "    stations_all=[] \n",
    "    for station in sresult\n",
    "    stations_all.append(station) \n",
    "                          \n",
    "return jsonsfy(stations_all) \n",
    "                        \n",
    "                          \n",
    "@app.route(\"/api/v1.0/tobs\")\n",
    "def tobs():\n",
    "    tresults=session.query(Measurement.tobs).\\\n",
    "             filter(Measurement.date > year_ago)\n",
    "     tobs_all=[]\n",
    "    for tob in tresults\n",
    "    tobs_all.append(tob)\n",
    "                          \n",
    "@app.route(\"/api/v1.0/<start>\")\n",
    "def calc01 ():\n",
    "    qu=[Measurement.tobs,\n",
    "                    func.avg(Measurement.tobs),\n",
    "                    func.max(Measurement.tobs),\n",
    "                    func.min(Measurement.tobs)\n",
    "                     ]\n",
    "    cresult=session.query(*qu).\\\n",
    "                filter(Measurement.date > star_date).al()\n",
    "print(\"TVAG,TMAX and TMIN are:\",cresult)\n",
    "                          \n",
    "@app.route(\"/api/v1.0/<start>/<end>\")\n",
    "\n",
    "calc_temps(start_date,end_date)                         \n",
    "print(\"TVAG,TMAX and TMIN are:\",res_list)    \n",
    "                "
   ]
  }
 ],
 "metadata": {
  "kernelspec": {
   "display_name": "Python 3",
   "language": "python",
   "name": "python3"
  },
  "language_info": {
   "codemirror_mode": {
    "name": "ipython",
    "version": 3
   },
   "file_extension": ".py",
   "mimetype": "text/x-python",
   "name": "python",
   "nbconvert_exporter": "python",
   "pygments_lexer": "ipython3",
   "version": "3.6.4"
  }
 },
 "nbformat": 4,
 "nbformat_minor": 2
}
