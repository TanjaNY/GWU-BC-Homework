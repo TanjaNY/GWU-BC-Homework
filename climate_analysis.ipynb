{
 "cells": [
  {
   "cell_type": "code",
   "execution_count": 83,
   "metadata": {},
   "outputs": [],
   "source": [
    "#Dependencies\n",
    "import sqlalchemy\n",
    "from sqlalchemy.ext.automap import automap_base\n",
    "from sqlalchemy.orm import Session\n",
    "from sqlalchemy import create_engine\n",
    "from sqlalchemy import create_engine, inspect, func"
   ]
  },
  {
   "cell_type": "code",
   "execution_count": 84,
   "metadata": {},
   "outputs": [],
   "source": [
    "import matplotlib\n",
    "from matplotlib import style\n",
    "style.use('seaborn')\n",
    "import matplotlib.pyplot as plt\n"
   ]
  },
  {
   "cell_type": "code",
   "execution_count": 85,
   "metadata": {},
   "outputs": [],
   "source": [
    "import pandas as pd\n",
    "from pandas import DataFrame\n",
    "import sqlite3\n",
    "import numpy as np\n",
    "from sqlalchemy import distinct\n",
    "from sqlalchemy import func\n",
    "\n"
   ]
  },
  {
   "cell_type": "markdown",
   "metadata": {},
   "source": [
    "**Step 3 - Climate Analysis and Exploration**"
   ]
  },
  {
   "cell_type": "code",
   "execution_count": 86,
   "metadata": {},
   "outputs": [],
   "source": [
    "# Create engine \n",
    "from sqlalchemy import event\n",
    "from sqlalchemy import exc\n",
    "import os\n",
    "\n",
    "engine = create_engine(\"sqlite:///hawaii.sqlite\",echo=False )\n",
    "\n",
    "@event.listens_for(engine, \"connect\")\n",
    "def connect(dbapi_connection, connection_record):\n",
    "    connection_record.info['pid'] = os.getpid()\n",
    "\n",
    "@event.listens_for(engine, \"checkout\")\n",
    "def checkout(dbapi_connection, connection_record, connection_proxy):\n",
    "    pid = os.getpid()\n",
    "    if connection_record.info['pid'] != pid:\n",
    "        connection_record.connection = connection_proxy.connection = None\n",
    "        raise exc.DisconnectionError(\n",
    "                \"Connection record belongs to pid %s, \"\n",
    "                \"attempting to check out in pid %s\" %\n",
    "                (connection_record.info['pid'], pid)\n",
    "        )\n"
   ]
  },
  {
   "cell_type": "code",
   "execution_count": 87,
   "metadata": {},
   "outputs": [],
   "source": [
    "# Declare a Base using `automap_base()`\n",
    "Base = automap_base()"
   ]
  },
  {
   "cell_type": "code",
   "execution_count": 88,
   "metadata": {},
   "outputs": [],
   "source": [
    "# Use the Base class to reflect the database tables\n",
    "Base.prepare(engine, reflect=True)"
   ]
  },
  {
   "cell_type": "code",
   "execution_count": 89,
   "metadata": {},
   "outputs": [
    {
     "data": {
      "text/plain": [
       "['measurement', 'station']"
      ]
     },
     "execution_count": 89,
     "metadata": {},
     "output_type": "execute_result"
    }
   ],
   "source": [
    "# Print all of the classes mapped to the Base\n",
    "Base.classes.keys()\n"
   ]
  },
  {
   "cell_type": "code",
   "execution_count": 90,
   "metadata": {},
   "outputs": [],
   "source": [
    "Measurement = Base.classes.measurement\n",
    "Station = Base.classes.station\n",
    "conn = engine.connect()\n"
   ]
  },
  {
   "cell_type": "code",
   "execution_count": 91,
   "metadata": {},
   "outputs": [
    {
     "name": "stdout",
     "output_type": "stream",
     "text": [
      "id INTEGER\n",
      "station VARCHAR(255)\n",
      "date VARCHAR(255)\n",
      "prcp INTEGER\n",
      "tobs INTEGER\n"
     ]
    }
   ],
   "source": [
    "#inspect data\n",
    "inspector = inspect(engine)\n",
    "columns = inspector.get_columns('measurement')\n",
    "for c in columns:\n",
    "    print(c['name'], c[\"type\"])"
   ]
  },
  {
   "cell_type": "code",
   "execution_count": 92,
   "metadata": {},
   "outputs": [],
   "source": [
    "# Create a session\n",
    "session = Session(engine)"
   ]
  },
  {
   "cell_type": "code",
   "execution_count": 93,
   "metadata": {},
   "outputs": [
    {
     "data": {
      "text/plain": [
       "['measurement', 'station']"
      ]
     },
     "execution_count": 93,
     "metadata": {},
     "output_type": "execute_result"
    }
   ],
   "source": [
    "inspector.get_table_names()"
   ]
  },
  {
   "cell_type": "code",
   "execution_count": 94,
   "metadata": {},
   "outputs": [
    {
     "name": "stdout",
     "output_type": "stream",
     "text": [
      "('2017-08-23',)\n"
     ]
    }
   ],
   "source": [
    "#identify last date of mesurement\n",
    "some_list=conn.execute(\"select date from measurement\").fetchall()\n",
    "last_date=some_list[-1]\n",
    "print(last_date)"
   ]
  },
  {
   "cell_type": "code",
   "execution_count": 95,
   "metadata": {},
   "outputs": [
    {
     "name": "stdout",
     "output_type": "stream",
     "text": [
      "Start date:  2011-04-08    Finish Date:  2011-03-24\n"
     ]
    }
   ],
   "source": [
    "#set up dates of trip\n",
    "\n",
    "import datetime as dt\n",
    "query_date = dt.date(2011, 4, 8) - dt.timedelta(days=15)\n",
    "\n",
    "print(\"Start date: \", dt.date(2011, 4, 8) ,\" \",\" Finish Date: \" , query_date )\n"
   ]
  },
  {
   "cell_type": "markdown",
   "metadata": {},
   "source": [
    "**Precipitation Analysis**\n"
   ]
  },
  {
   "cell_type": "code",
   "execution_count": 96,
   "metadata": {},
   "outputs": [
    {
     "data": {
      "text/html": [
       "<div>\n",
       "<style scoped>\n",
       "    .dataframe tbody tr th:only-of-type {\n",
       "        vertical-align: middle;\n",
       "    }\n",
       "\n",
       "    .dataframe tbody tr th {\n",
       "        vertical-align: top;\n",
       "    }\n",
       "\n",
       "    .dataframe thead th {\n",
       "        text-align: right;\n",
       "    }\n",
       "</style>\n",
       "<table border=\"1\" class=\"dataframe\">\n",
       "  <thead>\n",
       "    <tr style=\"text-align: right;\">\n",
       "      <th></th>\n",
       "      <th>date</th>\n",
       "      <th>Precipitation</th>\n",
       "    </tr>\n",
       "  </thead>\n",
       "  <tbody>\n",
       "    <tr>\n",
       "      <th>2427</th>\n",
       "      <td>2016-08-24</td>\n",
       "      <td>1.332857</td>\n",
       "    </tr>\n",
       "    <tr>\n",
       "      <th>2428</th>\n",
       "      <td>2016-08-25</td>\n",
       "      <td>0.077143</td>\n",
       "    </tr>\n",
       "    <tr>\n",
       "      <th>2429</th>\n",
       "      <td>2016-08-26</td>\n",
       "      <td>0.016667</td>\n",
       "    </tr>\n",
       "    <tr>\n",
       "      <th>2430</th>\n",
       "      <td>2016-08-27</td>\n",
       "      <td>0.053333</td>\n",
       "    </tr>\n",
       "    <tr>\n",
       "      <th>2431</th>\n",
       "      <td>2016-08-28</td>\n",
       "      <td>0.516667</td>\n",
       "    </tr>\n",
       "  </tbody>\n",
       "</table>\n",
       "</div>"
      ],
      "text/plain": [
       "            date  Precipitation\n",
       "2427  2016-08-24       1.332857\n",
       "2428  2016-08-25       0.077143\n",
       "2429  2016-08-26       0.016667\n",
       "2430  2016-08-27       0.053333\n",
       "2431  2016-08-28       0.516667"
      ]
     },
     "execution_count": 96,
     "metadata": {},
     "output_type": "execute_result"
    }
   ],
   "source": [
    "#create dataframe\n",
    "results = session.query( Measurement.date, Measurement.prcp).\\\n",
    "     order_by(Measurement.date.desc()).all()\n",
    "plot_data_df=pd.DataFrame(results)\n",
    "plot_df=plot_data_df.groupby(['date'])['prcp'].mean().reset_index().tail(365)\n",
    "plot=plot_df.rename(columns={\"prcp\":\"Precipitation\"})\n",
    "date_list=plot['date']\n",
    "prcp_list=plot['Precipitation']\n",
    "random_list=np.random.choice(date_list,8)\n",
    "random_list_sort=np.sort(random_list)[::-1]\n",
    "plot.head()\n"
   ]
  },
  {
   "cell_type": "code",
   "execution_count": 97,
   "metadata": {},
   "outputs": [
    {
     "data": {
      "image/png": "[encoded data removed]",
      "text/plain": [
       "<matplotlib.figure.Figure at 0x23103f37898>"
      ]
     },
     "metadata": {},
     "output_type": "display_data"
    }
   ],
   "source": [
    "#creat plot\n",
    "new_df=plot_df.plot(x=date_list,subplots=True)\n",
    "#ax = fig.add_subplot(111)\n",
    "#fig, ax = plt.subplots(111)\n",
    "#ax.set_xticks(date)\n",
    "xlabels=random_list_sort\n",
    "plt.xticks(np.arange(0,365,50),xlabels, rotation = 'vertical')\n",
    "plt.xlabel(\"date\")\n",
    "plt.legend(labels=['Precipitation'],loc='upper left',frameon=True)\n",
    "plt.show()"
   ]
  },
  {
   "cell_type": "markdown",
   "metadata": {},
   "source": [
    "**Station Analysis**\n"
   ]
  },
  {
   "cell_type": "code",
   "execution_count": 98,
   "metadata": {},
   "outputs": [
    {
     "name": "stdout",
     "output_type": "stream",
     "text": [
      "(9,)\n"
     ]
    }
   ],
   "source": [
    "#find number of stations\n",
    "stations=session.query(func.count(distinct(Measurement.station))).one()\n",
    "print(stations)\n"
   ]
  },
  {
   "cell_type": "code",
   "execution_count": 99,
   "metadata": {},
   "outputs": [
    {
     "name": "stdout",
     "output_type": "stream",
     "text": [
      "('USC00519281', 2772)\n"
     ]
    }
   ],
   "source": [
    "#find station with the biggest number of the observtions\n",
    "observations=session.query(Measurement.station,func.count(Measurement.tobs)).\\\n",
    "             group_by(Measurement.station).order_by(func.count(Measurement.tobs).desc()).first()\n",
    "\n",
    "print(observations)\n",
    "\n"
   ]
  },
  {
   "cell_type": "code",
   "execution_count": 100,
   "metadata": {},
   "outputs": [
    {
     "name": "stdout",
     "output_type": "stream",
     "text": [
      "[('USC00519281', 54, 1), ('USC00519281', 56, 4), ('USC00519281', 57, 6), ('USC00519281', 58, 6), ('USC00519281', 59, 5), ('USC00519281', 60, 15), ('USC00519281', 61, 19), ('USC00519281', 62, 37), ('USC00519281', 63, 33), ('USC00519281', 64, 41), ('USC00519281', 65, 71), ('USC00519281', 66, 80), ('USC00519281', 67, 111), ('USC00519281', 68, 143), ('USC00519281', 69, 193), ('USC00519281', 70, 227), ('USC00519281', 71, 265), ('USC00519281', 72, 290), ('USC00519281', 73, 278), ('USC00519281', 74, 261), ('USC00519281', 75, 204), ('USC00519281', 76, 148), ('USC00519281', 77, 111), ('USC00519281', 78, 88), ('USC00519281', 79, 54), ('USC00519281', 80, 43), ('USC00519281', 81, 22), ('USC00519281', 82, 11), ('USC00519281', 83, 3), ('USC00519281', 84, 1), ('USC00519281', 85, 1)]\n"
     ]
    }
   ],
   "source": [
    "# print data for the sattion with the most observations done\n",
    "temps=session.query(Measurement.station,Measurement.tobs,func.count(Measurement.tobs)).group_by(Measurement.tobs).\\\n",
    "      filter(Measurement.station == 'USC00519281').all()\n",
    "print(temps)"
   ]
  },
  {
   "cell_type": "code",
   "execution_count": 101,
   "metadata": {},
   "outputs": [
    {
     "name": "stdout",
     "output_type": "stream",
     "text": [
      "[(73,), (61,), (76,), (72,), (74,), (71,), (74,), (64,), (67,), (71,), (68,), (68,), (59,), (69,), (67,), (65,), (70,), (76,), (75,), (69,), (71,), (63,), (75,), (76,), (65,), (69,), (65,), (71,), (65,), (69,), (74,), (65,), (69,), (63,), (70,), (66,), (62,), (69,), (69,), (72,), (69,), (69,), (66,), (70,), (73,), (73,), (74,), (69,), (65,), (60,), (74,), (68,), (62,), (71,), (62,), (72,), (71,), (75,), (67,), (66,), (67,), (66,), (65,), (65,), (68,), (69,), (65,), (72,), (66,), (71,), (66,), (74,), (74,), (66,), (69,), (65,), (70,), (67,), (65,), (74,), (77,), (74,), (71,), (67,), (71,), (72,), (74,), (70,), (68,), (70,), (73,), (73,), (67,), (67,), (69,), (69,), (68,), (76,), (68,), (67,), (73,), (68,), (71,), (68,), (67,), (65,), (70,), (71,), (71,), (71,), (71,), (75,), (71,), (75,), (78,), (72,), (75,), (76,), (69,), (72,), (73,), (74,), (75,), (77,), (72,), (71,), (69,), (75,), (74,), (71,), (70,), (70,), (70,), (73,), (73,), (73,), (71,), (71,), (71,), (71,), (71,), (77,), (74,), (71,), (71,), (71,), (72,), (74,), (75,), (76,), (80,), (70,), (78,), (73,), (68,), (79,), (74,), (75,), (71,), (75,), (75,), (75,), (78,), (77,), (76,), (76,), (73,), (73,), (72,), (74,), (85,), (77,), (72,), (72,), (72,), (70,), (69,), (73,), (71,), (73,), (72,), (70,), (69,), (69,), (72,), (72,), (69,), (69,), (69,), (68,), (68,), (71,), (70,), (72,), (69,), (68,), (70,), (70,), (74,), (69,), (70,), (72,), (72,), (71,), (73,), (74,), (73,), (70,), (71,), (72,), (69,), (73,), (71,), (70,), (70,), (69,), (69,), (70,), (72,), (71,), (72,), (72,), (69,), (71,), (71,), (71,), (72,), (69,), (69,), (72,), (74,), (71,), (72,), (71,), (73,), (70,), (69,), (71,), (73,), (73,), (71,), (73,), (70,), (69,), (72,), (69,), (68,), (72,), (68,), (69,), (70,), (72,), (71,), (74,), (73,), (72,), (74,), (72,), (72,), (73,), (71,), (74,), (74,), (73,), (72,), (73,), (74,), (71,), (72,), (72,), (77,), (72,), (70,), (73,), (73,), (73,), (71,), (76,), (74,), (73,), (74,), (72,), (73,), (71,), (71,), (71,), (72,), (72,), (72,), (74,), (74,), (69,), (75,), (73,), (74,), (73,), (74,), (74,), (71,), (71,), (76,), (70,), (70,), (74,), (72,), (75,), (68,), (69,), (71,), (73,), (72,), (73,), (69,), (69,), (80,), (72,), (79,), (77,), (71,), (73,), (65,), (68,), (67,), (69,), (71,), (68,), (68,), (71,), (73,), (71,), (69,), (69,), (69,), (71,), (71,), (70,), (67,), (77,), (69,), (61,), (62,), (63,), (73,), (64,), (67,), (69,), (80,), (71,), (73,), (65,), (68,), (68,), (69,), (72,), (69,), (69,), (67,), (69,), (73,), (71,), (71,), (70,), (71,), (70,), (75,), (74,), (70,), (69,), (70,), (67,), (67,), (65,), (66,), (58,), (64,), (58,), (68,), (65,), (72,), (66,), (68,), (70,), (62,), (62,), (71,), (70,), (69,), (67,), (69,), (61,), (67,), (68,), (69,), (64,), (62,), (66,), (69,), (66,), (65,), (61,), (62,), (72,), (67,), (70,), (62,), (67,), (68,), (69,), (66,), (67,), (67,), (71,), (68,), (77,), (75,), (76,), (75,), (72,), (70,), (66,), (64,), (78,), (75,), (75,), (68,), (69,), (72,), (69,), (69,), (69,), (70,), (70,), (67,), (68,), (67,), (73,), (77,), (71,), (70,), (71,), (69,), (68,), (69,), (67,), (69,), (67,), (69,), (72,), (71,), (67,), (74,), (68,), (68,), (74,), (72,), (67,), (74,), (71,), (73,), (69,), (69,), (71,), (71,), (75,), (72,), (70,), (72,), (69,), (71,), (73,), (81,), (77,), (73,), (73,), (66,), (78,), (82,), (78,), (71,), (69,), (71,), (71,), (70,), (71,), (74,), (72,), (73,), (70,), (70,), (70,), (67,), (67,), (70,), (73,), (73,), (72,), (73,), (71,), (72,), (72,), (72,), (70,), (75,), (70,), (74,), (71,), (69,), (72,), (71,), (71,), (72,), (71,), (72,), (70,), (71,), (70,), (69,), (72,), (66,), (67,), (71,), (71,), (72,), (72,), (71,), (71,), (71,), (69,), (68,), (71,), (73,), (72,), (74,), (70,), (72,), (71,), (71,), (70,), (70,), (69,), (74,), (69,), (72,), (70,), (72,), (72,), (70,), (73,), (71,), (70,), (71,), (69,), (71,), (71,), (76,), (71,), (70,), (67,), (71,), (71,), (70,), (74,), (74,), (72,), (76,), (69,), (73,), (70,), (71,), (72,), (74,), (74,), (75,), (73,), (71,), (77,), (73,), (73,), (70,), (71,), (77,), (77,), (74,), (76,), (74,), (73,), (74,), (73,), (73,), (73,), (74,), (74,), (72,), (74,), (70,), (71,), (71,), (77,), (73,), (73,), (71,), (71,), (71,), (70,), (71,), (70,), (72,), (74,), (75,), (76,), (72,), (80,), (70,), (75,), (74,), (77,), (75,), (76,), (71,), (70,), (72,), (73,), (74,), (73,), (70,), (71,), (73,), (72,), (73,), (72,), (71,), (76,), (73,), (76,), (73,), (73,), (73,), (75,), (72,), (71,), (74,), (71,), (76,), (73,), (77,), (86,), (79,), (71,), (69,), (65,), (71,), (72,), (77,), (77,), (70,), (70,), (72,), (68,), (71,), (75,), (80,), (75,), (77,), (74,), (64,), (72,), (69,), (71,), (70,), (73,), (71,), (70,), (71,), (69,), (73,), (71,), (73,), (71,), (71,), (68,), (67,), (70,), (71,), (75,), (71,), (71,), (72,), (76,), (70,), (72,), (69,), (70,), (75,), (67,), (71,), (70,), (71,), (67,), (68,), (71,), (73,), (71,), (71,), (68,), (67,), (70,), (67,), (65,), (69,), (71,), (69,), (69,), (68,), (69,), (69,), (67,), (69,), (68,), (70,), (68,), (69,), (71,), (65,), (69,), (69,), (69,), (69,), (70,), (73,), (67,), (71,), (64,), (70,), (71,), (70,), (72,), (62,), (61,), (62,), (69,), (71,), (72,), (68,), (61,), (76,), (74,), (73,), (71,), (69,), (70,), (71,), (71,), (66,), (76,), (67,), (71,), (66,), (70,), (69,), (66,), (67,), (66,), (72,), (75,), (61,), (66,), (69,), (70,), (66,), (66,), (68,), (69,), (69,), (67,), (71,), (70,), (70,), (69,), (69,), (72,), (69,), (70,), (70,), (67,), (74,), (64,), (71,), (69,), (69,), (69,), (67,), (66,), (66,), (67,), (64,), (67,), (69,), (66,), (64,), (70,), (71,), (67,), (67,), (65,), (66,), (66,), (68,), (66,), (69,), (68,), (65,), (69,), (68,), (67,), (68,), (66,), (66,), (74,), (74,), (72,), (70,), (71,), (71,), (71,), (69,), (69,), (68,), (70,), (69,), (64,), (64,), (69,), (69,), (70,), (68,), (69,), (72,), (71,), (71,), (69,), (67,), (75,), (68,), (65,), (68,), (66,), (76,), (68,), (68,), (70,), (70,), (70,), (67,), (70,), (66,), (67,), (67,), (68,), (69,), (70,), (69,), (69,), (73,), (68,), (75,), (73,), (68,), (71,), (72,), (69,), (68,), (73,), (72,), (70,), (72,), (71,), (74,), (73,), (73,), (71,), (70,), (68,), (69,), (73,), (71,), (72,), (71,), (72,), (71,), (74,), (74,), (75,), (69,), (75,), (70,), (73,), (72,), (70,), (73,), (71,), (70,), (69,), (71,), (71,), (68,), (68,), (68,), (69,), (69,), (69,), (71,), (79,), (68,), (75,), (68,), (70,), (71,), (70,), (70,), (72,), (71,), (70,), (70,), (70,), (72,), (74,), (72,), (72,), (75,), (72,), (68,), (71,), (74,), (69,), (73,), (74,), (72,), (72,), (69,), (70,), (69,), (72,), (73,), (71,), (73,), (72,), (72,), (70,), (69,), (71,), (71,), (75,), (75,), (67,), (69,), (73,), (73,), (73,), (72,), (72,), (80,), (70,), (72,), (71,), (73,), (74,), (72,), (78,), (81,), (69,), (69,), (72,), (72,), (70,), (71,), (67,), (69,), (73,), (69,), (70,), (69,), (69,), (71,), (72,), (72,), (71,), (70,), (69,), (67,), (70,), (69,), (68,), (70,), (73,), (70,), (69,), (71,), (69,), (69,), (69,), (72,), (70,), (73,), (80,), (69,), (70,), (73,), (67,), (79,), (77,), (76,), (78,), (73,), (71,), (76,), (77,), (79,), (79,), (74,), (69,), (67,), (70,), (75,), (78,), (82,), (72,), (71,), (69,), (70,), (71,), (76,), (71,), (74,), (68,), (70,), (70,), (69,), (66,), (66,), (70,), (69,), (73,), (69,), (72,), (69,), (71,), (75,), (69,), (71,), (71,), (67,), (67,), (70,), (69,), (68,), (70,), (72,), (67,), (75,), (71,), (70,), (69,), (75,), (67,), (65,), (74,), (77,), (74,), (73,), (71,), (73,), (68,), (69,), (71,), (72,), (72,), (67,), (67,), (69,), (66,), (66,), (69,), (66,), (68,), (65,), (68,), (67,), (71,), (65,), (71,), (69,), (69,), (62,), (62,), (67,), (65,), (70,), (67,), (66,), (67,), (67,), (67,), (67,), (68,), (67,), (69,), (68,), (67,), (68,), (70,), (69,), (64,), (64,), (65,), (70,), (67,), (69,), (68,), (65,), (66,), (66,), (62,), (69,), (66,), (67,), (62,), (69,), (69,), (70,), (67,), (69,), (71,), (66,), (67,), (69,), (69,), (69,), (66,), (64,), (65,), (66,), (66,), (70,), (67,), (68,), (67,), (66,), (66,), (66,), (67,), (65,), (67,), (68,), (68,), (67,), (67,), (66,), (67,), (69,), (66,), (67,), (73,), (69,), (71,), (66,), (65,), (67,), (64,), (66,), (62,), (65,), (64,), (69,), (67,), (64,), (67,), (72,), (67,), (67,), (69,), (69,), (68,), (68,), (66,), (71,), (63,), (60,), (67,), (67,), (66,), (69,), (73,), (71,), (72,), (70,), (69,), (71,), (71,), (72,), (72,), (72,), (68,), (72,), (69,), (69,), (75,), (69,), (71,), (70,), (78,), (72,), (73,), (78,), (70,), (74,), (74,), (70,), (73,), (78,), (69,), (69,), (70,), (70,), (74,), (73,), (73,), (70,), (69,), (70,), (71,), (72,), (70,), (71,), (70,), (76,), (73,), (69,), (75,), (75,), (73,), (71,), (71,), (72,), (69,), (72,), (72,), (71,), (78,), (72,), (73,), (71,), (72,), (72,), (71,), (74,), (71,), (72,), (72,), (74,), (72,), (69,), (70,), (76,), (70,), (71,), (73,), (68,), (68,), (69,), (70,), (69,), (69,), (70,), (71,), (70,), (67,), (72,), (73,), (69,), (72,), (73,), (67,), (73,), (70,), (72,), (74,), (70,), (71,), (71,), (75,), (72,), (73,), (71,), (71,), (73,), (81,), (78,), (80,), (72,), (73,), (69,), (72,), (71,), (72,), (72,), (75,), (82,), (72,), (76,), (70,), (72,), (69,), (72,), (74,), (74,), (73,), (71,), (75,), (72,), (74,), (73,), (73,), (69,), (73,), (74,), (73,), (73,), (78,), (73,), (70,), (71,), (77,), (81,), (75,), (76,), (78,), (72,), (73,), (74,), (79,), (71,), (71,), (74,), (75,), (71,), (71,), (73,), (74,), (76,), (76,), (73,), (71,), (72,), (75,), (75,), (71,), (71,), (72,), (75,), (74,), (70,), (71,), (71,), (73,), (69,), (74,), (76,), (72,), (74,), (73,), (75,), (74,), (72,), (71,), (74,), (75,), (72,), (73,), (71,), (75,), (73,), (84,), (74,), (76,), (70,), (76,), (67,), (70,), (70,), (77,), (72,), (66,), (72,), (74,), (80,), (76,), (74,), (73,), (72,), (75,), (72,), (70,), (72,), (70,), (74,), (74,), (72,), (75,), (70,), (70,), (71,), (62,), (72,), (71,), (72,), (75,), (73,), (66,), (69,), (69,), (69,), (66,), (74,), (75,), (63,), (74,), (73,), (72,), (72,), (74,), (68,), (67,), (75,), (68,), (68,), (70,), (70,), (83,), (68,), (70,), (70,), (68,), (76,), (72,), (68,), (64,), (72,), (72,), (68,), (70,), (69,), (67,), (68,), (70,), (67,), (70,), (70,), (71,), (70,), (69,), (71,), (65,), (69,), (69,), (69,), (66,), (67,), (69,), (69,), (69,), (70,), (67,), (69,), (67,), (73,), (69,), (68,), (73,), (69,), (66,), (66,), (65,), (68,), (68,), (68,), (70,), (70,), (64,), (65,), (66,), (65,), (67,), (68,), (67,), (68,), (66,), (69,), (72,), (72,), (70,), (69,), (68,), (77,), (71,), (71,), (69,), (69,), (69,), (68,), (68,), (77,), (64,), (69,), (83,), (66,), (68,), (67,), (62,), (67,), (68,), (69,), (66,), (60,), (70,), (68,), (65,), (69,), (65,), (68,), (68,), (69,), (70,), (70,), (70,), (70,), (66,), (66,), (62,), (60,), (62,), (64,), (74,), (70,), (64,), (70,), (77,), (69,), (71,), (70,), (72,), (78,), (69,), (71,), (71,), (70,), (74,), (71,), (66,), (66,), (67,), (64,), (69,), (65,), (67,), (68,), (69,), (70,), (72,), (70,), (72,), (69,), (68,), (71,), (69,), (71,), (70,), (68,), (67,), (66,), (69,), (67,), (67,), (69,), (71,), (70,), (67,), (70,), (69,), (68,), (70,), (78,), (70,), (69,), (69,), (69,), (75,), (71,), (69,), (74,), (68,), (70,), (73,), (77,), (76,), (73,), (77,), (70,), (71,), (71,), (70,), (73,), (79,), (72,), (75,), (73,), (73,), (72,), (71,), (77,), (73,), (70,), (70,), (76,), (72,), (73,), (77,), (73,), (70,), (68,), (69,), (70,), (70,), (73,), (70,), (69,), (71,), (70,), (70,), (72,), (71,), (70,), (69,), (72,), (71,), (71,), (77,), (71,), (71,), (69,), (73,), (70,), (74,), (75,), (73,), (72,), (73,), (75,), (75,), (70,), (73,), (74,), (72,), (73,), (75,), (75,), (73,), (72,), (74,), (75,), (74,), (75,), (73,), (74,), (73,), (73,), (74,), (83,), (75,), (71,), (74,), (73,), (73,), (74,), (69,), (79,), (74,), (76,), (71,), (71,), (71,), (70,), (72,), (75,), (73,), (73,), (75,), (72,), (70,), (72,), (72,), (67,), (80,), (80,), (81,), (73,), (75,), (75,), (74,), (75,), (74,), (72,), (72,), (75,), (80,), (70,), (68,), (82,), (74,), (72,), (78,), (83,), (73,), (80,), (78,), (77,), (77,), (77,), (76,), (77,), (75,), (74,), (72,), (74,), (75,), (74,), (75,), (75,), (74,), (81,), (73,), (80,), (72,), (74,), (76,), (76,), (74,), (73,), (72,), (73,), (75,), (75,), (78,), (73,), (75,), (76,), (76,), (75,), (72,), (74,), (74,), (74,), (74,), (75,), (73,), (73,), (76,), (71,), (71,), (74,), (71,), (75,), (76,), (69,), (70,), (69,), (78,), (71,), (69,), (72,), (71,), (74,), (72,), (74,), (72,), (71,), (74,), (74,), (70,), (72,), (69,), (71,), (72,), (70,), (68,), (66,), (68,), (70,), (67,), (70,), (73,), (70,), (66,), (62,), (70,), (72,), (71,), (68,), (71,), (67,), (65,), (66,), (70,), (69,), (70,), (81,), (72,), (67,), (68,), (64,), (66,), (65,), (62,), (68,), (67,), (64,), (57,), (69,), (64,), (63,), (58,), (58,), (66,), (66,), (59,), (63,), (77,), (61,), (62,), (70,), (66,), (68,), (68,), (66,), (67,), (66,), (67,), (64,), (65,), (72,), (66,), (64,), (67,), (59,), (68,), (74,), (60,), (63,), (72,), (68,), (72,), (72,), (63,), (59,), (60,), (60,), (75,), (67,), (62,), (63,), (67,), (73,), (63,), (68,), (63,), (64,), (68,), (69,), (68,), (69,), (71,), (71,), (69,), (68,), (67,), (70,), (68,), (76,), (70,), (69,), (65,), (65,), (66,), (64,), (61,), (63,), (62,), (66,), (64,), (65,), (63,), (60,), (64,), (64,), (69,), (67,), (72,), (71,), (74,), (69,), (70,), (66,), (69,), (70,), (68,), (67,), (68,), (69,), (68,), (77,), (70,), (70,), (70,), (67,), (70,), (69,), (72,), (69,), (69,), (69,), (69,), (68,), (70,), (70,), (72,), (68,), (80,), (68,), (73,), (71,), (72,), (73,), (70,), (68,), (69,), (71,), (69,), (69,), (71,), (70,), (77,), (68,), (70,), (69,), (67,), (69,), (68,), (71,), (70,), (70,), (72,), (72,), (72,), (70,), (70,), (71,), (69,), (76,), (73,), (69,), (69,), (68,), (68,), (73,), (71,), (74,), (72,), (69,), (69,), (72,), (72,), (71,), (76,), (71,), (72,), (70,), (72,), (72,), (69,), (71,), (72,), (69,), (70,), (73,), (70,), (72,), (72,), (71,), (73,), (72,), (73,), (72,), (71,), (70,), (75,), (72,), (70,), (72,), (75,), (79,), (76,), (75,), (74,), (74,), (74,), (73,), (75,), (73,), (76,), (78,), (74,), (72,), (74,), (75,), (76,), (75,), (72,), (71,), (74,), (72,), (75,), (75,), (72,), (73,), (74,), (76,), (77,), (75,), (75,), (73,), (76,), (76,), (76,), (74,), (76,), (75,), (77,), (73,), (75,), (73,), (77,), (75,), (74,), (73,), (75,), (75,), (76,), (76,), (77,), (75,), (79,), (75,), (72,), (77,), (76,), (77,), (76,), (75,), (77,), (78,), (77,), (77,), (74,), (75,), (79,), (74,), (76,), (79,), (78,), (76,), (75,), (76,), (76,), (75,), (73,), (76,), (75,), (75,), (76,), (74,), (75,), (76,), (73,), (72,), (73,), (76,), (73,), (72,), (73,), (72,), (71,), (72,), (73,), (74,), (74,), (73,), (73,), (74,), (76,), (75,), (76,), (74,), (73,), (73,), (71,), (73,), (76,), (80,), (71,), (74,), (73,), (74,), (74,), (79,), (74,), (71,), (71,), (74,), (78,), (76,), (75,), (77,), (73,), (78,), (73,), (72,), (75,), (72,), (74,), (73,), (72,), (72,), (75,), (72,), (73,), (72,), (71,), (73,), (72,), (73,), (70,), (73,), (73,), (72,), (72,), (72,), (72,), (73,), (73,), (72,), (71,), (73,), (70,), (71,), (71,), (70,), (71,), (69,), (70,), (73,), (70,), (72,), (71,), (69,), (67,), (74,), (73,), (69,), (71,), (68,), (72,), (75,), (71,), (70,), (72,), (71,), (69,), (71,), (73,), (67,), (71,), (69,), (73,), (69,), (65,), (62,), (69,), (68,), (64,), (69,), (70,), (64,), (65,), (65,), (63,), (66,), (74,), (73,), (64,), (62,), (63,), (67,), (69,), (71,), (70,), (67,), (68,), (68,), (69,), (67,), (68,), (67,), (68,), (65,), (69,), (69,), (73,), (67,), (67,), (65,), (63,), (62,), (65,), (69,), (70,), (69,), (68,), (68,), (70,), (71,), (70,), (66,), (67,), (70,), (60,), (67,), (65,), (70,), (72,), (69,), (66,), (68,), (68,), (69,), (69,), (62,), (70,), (72,), (63,), (72,), (66,), (67,), (66,), (70,), (69,), (67,), (67,), (78,), (65,), (66,), (67,), (68,), (70,), (72,), (71,), (73,), (69,), (71,), (68,), (68,), (69,), (74,), (69,), (69,), (72,), (71,), (69,), (74,), (67,), (67,), (70,), (71,), (72,), (67,), (70,), (71,), (71,), (70,), (72,), (66,), (72,), (70,), (69,), (68,), (69,), (68,), (69,), (74,), (72,), (73,), (77,), (73,), (72,), (71,), (72,), (72,), (69,), (70,), (66,), (68,), (68,), (71,), (68,), (67,), (70,), (70,), (71,), (73,), (71,), (71,), (70,), (71,), (71,), (76,), (76,), (73,), (70,), (69,), (71,), (75,), (72,), (74,), (72,), (69,), (70,), (71,), (70,), (65,), (73,), (72,), (71,), (71,), (69,), (70,), (73,), (75,), (73,), (72,), (70,), (70,), (69,), (73,), (74,), (72,), (71,), (73,), (72,), (76,), (73,), (74,), (72,), (74,), (72,), (77,), (74,), (79,), (76,), (74,), (71,), (71,), (73,), (73,), (71,), (76,), (72,), (75,), (75,), (73,), (71,), (77,), (74,), (72,), (73,), (74,), (79,), (78,), (74,), (75,), (81,), (76,), (76,), (76,), (74,), (76,), (75,), (73,), (72,), (74,), (74,), (75,), (77,), (79,), (75,), (73,), (76,), (74,), (71,), (74,), (72,), (72,), (72,), (77,), (73,), (73,), (76,), (74,), (72,), (74,), (74,), (77,), (80,), (74,), (71,), (78,), (75,), (76,), (77,), (75,), (75,), (73,), (76,), (73,), (74,), (74,), (75,), (75,), (71,), (72,), (75,), (73,), (73,), (73,), (76,), (75,), (70,), (70,), (73,), (73,), (73,), (77,), (76,), (74,), (74,), (77,), (77,), (73,), (74,), (73,), (76,), (74,), (75,), (75,), (73,), (74,), (77,), (74,), (74,), (78,), (75,), (73,), (74,), (77,), (70,), (74,), (70,), (73,), (74,), (75,), (72,), (71,), (74,), (75,), (71,), (68,), (71,), (76,), (69,), (73,), (76,), (74,), (74,), (69,), (77,), (71,), (71,), (71,), (71,), (67,), (73,), (72,), (74,), (72,), (72,), (75,), (75,), (73,), (74,), (71,), (73,), (69,), (69,), (69,), (70,), (69,), (71,), (67,), (72,), (71,), (71,), (67,), (76,), (67,), (67,), (68,), (71,), (68,), (68,), (69,), (65,), (70,), (69,), (64,), (60,), (70,), (67,), (72,), (73,), (70,), (68,), (69,), (69,), (69,), (71,), (71,), (71,), (69,), (65,), (65,), (68,), (70,), (71,), (70,), (71,), (65,), (70,), (66,), (69,), (64,), (66,), (68,), (67,), (70,), (68,), (68,), (69,), (73,), (71,), (67,), (67,), (68,), (70,), (67,), (69,), (67,), (69,), (64,), (67,), (66,), (65,), (65,), (60,), (60,), (66,), (69,), (73,), (68,), (68,), (64,), (70,), (66,), (65,), (68,), (79,), (71,), (72,), (70,), (72,), (68,), (69,), (65,), (69,), (72,), (68,), (66,), (64,), (69,), (69,), (64,), (72,), (78,), (70,), (68,), (76,), (72,), (68,), (72,), (65,), (82,), (69,), (69,), (75,), (76,), (77,), (68,), (70,), (74,), (74,), (72,), (72,), (70,), (70,), (72,), (72,), (74,), (69,), (69,), (73,), (76,), (69,), (71,), (73,), (75,), (69,), (72,), (74,), (76,), (70,), (72,), (71,), (70,), (73,), (72,), (70,), (71,), (69,), (71,), (71,), (69,), (70,), (73,), (70,), (75,), (74,), (77,), (76,), (71,), (68,), (58,), (73,), (79,), (70,), (74,), (74,), (74,), (70,), (66,), (72,), (72,), (78,), (70,), (71,), (70,), (72,), (71,), (71,), (69,), (68,), (70,), (69,), (72,), (69,), (70,), (75,), (72,), (72,), (73,), (74,), (72,), (75,), (74,), (76,), (74,), (77,), (74,), (74,), (79,), (75,), (72,), (72,), (76,), (74,), (73,), (74,), (77,), (74,), (72,), (77,), (76,), (74,), (75,), (76,), (71,), (73,), (79,), (79,), (74,), (74,), (76,), (75,), (74,), (78,), (77,), (77,), (75,), (74,), (74,), (71,), (78,), (77,), (74,), (72,), (77,), (76,), (78,), (75,), (72,), (77,), (74,), (75,), (72,), (72,), (78,), (77,), (79,), (73,), (75,), (73,), (77,), (79,), (74,), (72,), (80,), (76,), (77,), (77,), (79,), (78,), (74,), (71,), (75,), (72,), (74,), (80,), (79,), (70,), (71,), (72,), (76,), (71,), (78,), (76,), (76,), (76,)]\n"
     ]
    }
   ],
   "source": [
    "#find measurments\n",
    "hist_data=session.query(Measurement.tobs).\\\n",
    "          group_by(Measurement.date).all()  \n",
    "    \n",
    "          \n",
    "print(hist_data)"
   ]
  },
  {
   "cell_type": "code",
   "execution_count": 102,
   "metadata": {},
   "outputs": [
    {
     "data": {
      "text/plain": [
       "<matplotlib.axes._subplots.AxesSubplot at 0x23107b744e0>"
      ]
     },
     "execution_count": 102,
     "metadata": {},
     "output_type": "execute_result"
    },
    {
     "data": {
      "text/plain": [
       "<matplotlib.figure.Figure at 0x23107777240>"
      ]
     },
     "metadata": {},
     "output_type": "display_data"
    },
    {
     "data": {
      "image/png": "[encoded data removed]",
      "text/plain": [
       "<matplotlib.figure.Figure at 0x23107b1c0b8>"
      ]
     },
     "metadata": {},
     "output_type": "display_data"
    }
   ],
   "source": [
    "#create histogram\n",
    "plt_data=pd.DataFrame(hist_data)\n",
    "plt.figure();\n",
    "plt_data.plot.hist(bins=12)"
   ]
  },
  {
   "cell_type": "markdown",
   "metadata": {},
   "source": [
    "**Temperature Analysis**"
   ]
  },
  {
   "cell_type": "code",
   "execution_count": 103,
   "metadata": {},
   "outputs": [],
   "source": [
    "#dependencies, date one year ago\n",
    "from datetime import date\n",
    "from datetime import time\n",
    "import datetime\n",
    "\n",
    "b=dt.date.today()-dt.timedelta(365)\n",
    "b\n",
    "res_list=[]"
   ]
  },
  {
   "cell_type": "code",
   "execution_count": 104,
   "metadata": {},
   "outputs": [],
   "source": [
    "#create function calc_temps\n",
    "import datetime as dt\n",
    "import numpy as np\n",
    "from datetime import date\n",
    "from typing import Tuple\n",
    "\n",
    "def calc_temps (start_date:str,\n",
    "                end_date:str):\n",
    "    s_date=datetime.datetime.strptime(start_date,\"%Y-%m-%d\")\n",
    "    e_date=datetime.datetime.strptime(end_date,\"%Y-%m-%d\")\n",
    "    \n",
    "    qu=[\n",
    "                    func.avg(Measurement.tobs),\n",
    "                    func.max(Measurement.tobs),\n",
    "                    func.min(Measurement.tobs)\n",
    "                     ]\n",
    "    result=session.query(*qu).\\\n",
    "                filter(Measurement.date > s_date).\\\n",
    "                filter(Measurement.date < e_date).all()\n",
    "    res_list = list(np.ravel(result))\n",
    "    \n",
    "    print(\"Average, maximal and minimal temperature for the period:\", res_list)\n",
    "    return res_list"
   ]
  },
  {
   "cell_type": "code",
   "execution_count": 105,
   "metadata": {},
   "outputs": [
    {
     "name": "stdout",
     "output_type": "stream",
     "text": [
      "Average, maximal and minimal temperature for the period: [77.77215189873418, 84.0, 71.0]\n"
     ]
    },
    {
     "data": {
      "text/plain": [
       "[77.77215189873418, 84.0, 71.0]"
      ]
     },
     "execution_count": 105,
     "metadata": {},
     "output_type": "execute_result"
    }
   ],
   "source": [
    "#apply function\n",
    "start_date=('2016-8-30')\n",
    "end_date=('2016-9-12')\n",
    "calc_temps(start_date,end_date)\n"
   ]
  },
  {
   "cell_type": "code",
   "execution_count": 106,
   "metadata": {},
   "outputs": [
    {
     "data": {
      "image/png": "[encoded data removed]",
      "text/plain": [
       "<matplotlib.figure.Figure at 0x23105377a90>"
      ]
     },
     "metadata": {},
     "output_type": "display_data"
    }
   ],
   "source": [
    "#create plot\n",
    "import numpy as np\n",
    "start_date=('2016-8-30')\n",
    "end_date=('2016-9-12')\n",
    "s_date=datetime.datetime.strptime(start_date,\"%Y-%m-%d\")\n",
    "e_date=datetime.datetime.strptime(end_date,\"%Y-%m-%d\")\n",
    "    \n",
    "qu=[\n",
    "                    func.avg(Measurement.tobs),\n",
    "                    func.max(Measurement.tobs),\n",
    "                    func.min(Measurement.tobs)\n",
    "                     ]\n",
    "aresult=session.query(*qu).\\\n",
    "                filter(Measurement.date > s_date).\\\n",
    "                filter(Measurement.date < e_date).all()\n",
    "ares_list = list(np.ravel(aresult))\n",
    "fig, ax = plt.subplots()\n",
    "\n",
    "x = range(len(ares_list))\n",
    "ax.boxplot(ares_list, patch_artist=True)\n",
    "ax.set_title('Average,naximal and minimal temperatures')\n",
    "fig.tight_layout()\n"
   ]
  },
  {
   "cell_type": "markdown",
   "metadata": {},
   "source": [
    "# **Step 4 - Climate App**"
   ]
  },
  {
   "cell_type": "code",
   "execution_count": 107,
   "metadata": {},
   "outputs": [],
   "source": [
    "# 1. Import Flask\n",
    "from flask import Flask"
   ]
  },
  {
   "cell_type": "code",
   "execution_count": 108,
   "metadata": {},
   "outputs": [],
   "source": [
    "app = Flask(__name__)\n"
   ]
  },
  {
   "cell_type": "code",
   "execution_count": 113,
   "metadata": {},
   "outputs": [
    {
     "ename": "IndentationError",
     "evalue": "unexpected indent (<ipython-input-113-cc1f1d900e67>, line 8)",
     "output_type": "error",
     "traceback": [
      "\u001b[1;36m  File \u001b[1;32m\"<ipython-input-113-cc1f1d900e67>\"\u001b[1;36m, line \u001b[1;32m8\u001b[0m\n\u001b[1;33m    for measurement in presults\u001b[0m\n\u001b[1;37m    ^\u001b[0m\n\u001b[1;31mIndentationError\u001b[0m\u001b[1;31m:\u001b[0m unexpected indent\n"
     ]
    }
   ],
   "source": [
    "@app.route(\"/api/v1.0/precipitation\")\n",
    "def precipitation():\n",
    "    year_ago=dt.date.today()-dt.timedelta(365)\n",
    "    presults = session.query(Measurement.date,Measurement.tobs).\\\n",
    "    filter(Measurement.date > year_ago).all()\n",
    "    \n",
    "    prec_all=[]\n",
    "    \n",
    "    for measurement in presults\n",
    "        prec_dict={}\n",
    "        prec_dict['date'].key()=Measurement.date\n",
    "        prec_dict['tobs'].value()=Measurement.tobs\n",
    "        prec_all.append(prec_dict)\n",
    "    \n",
    "return jsonsfy(prec_all=[]) \n",
    "\n",
    "@app.route(\"/api/v1.0/stations\")\n",
    "def stations():\n",
    "    sresult=session.query(distinct(Measurement.station).all()\n",
    "    stations_all=[] \n",
    "    for station in sresult\n",
    "    stations_all.append(station) \n",
    "                          \n",
    "return jsonsfy(stations_all) \n",
    "                        \n",
    "                          \n",
    "@app.route(\"/api/v1.0/tobs\")\n",
    "def tobs():\n",
    "    tresults=session.query(Measurement.tobs).\\\n",
    "             filter(Measurement.date > year_ago)\n",
    "     tobs_all=[]\n",
    "    for tob in tresults\n",
    "    tobs_all.append(tob)\n",
    "                          \n",
    "@app.route(\"/api/v1.0/<start>\")\n",
    "def calc01 ():\n",
    "    qu=[Measurement.tobs,\n",
    "                    func.avg(Measurement.tobs),\n",
    "                    func.max(Measurement.tobs),\n",
    "                    func.min(Measurement.tobs)\n",
    "                     ]\n",
    "    cresult=session.query(*qu).\\\n",
    "                filter(Measurement.date > star_date).al()\n",
    "print(\"TVAG,TMAX and TMIN are:\",cresult)\n",
    "                          \n",
    "@app.route(\"/api/v1.0/<start>/<end>\")\n",
    "\n",
    "calc_temps(start_date,end_date)                         \n",
    "print(\"TVAG,TMAX and TMIN are:\",res_list)    \n",
    "                "
   ]
  },
  {
   "cell_type": "code",
   "execution_count": null,
   "metadata": {},
   "outputs": [],
   "source": []
  }
 ],
 "metadata": {
  "kernelspec": {
   "display_name": "Python 3",
   "language": "python",
   "name": "python3"
  },
  "language_info": {
   "codemirror_mode": {
    "name": "ipython",
    "version": 3
   },
   "file_extension": ".py",
   "mimetype": "text/x-python",
   "name": "python",
   "nbconvert_exporter": "python",
   "pygments_lexer": "ipython3",
   "version": "3.6.4"
  }
 },
 "nbformat": 4,
 "nbformat_minor": 2
}
